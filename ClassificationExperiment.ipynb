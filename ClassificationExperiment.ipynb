{
 "cells": [
  {
   "cell_type": "code",
   "execution_count": 1,
   "metadata": {
    "collapsed": true
   },
   "outputs": [],
   "source": [
    "from sklearn.datasets import load_svmlight_file\n",
    "import numpy as np\n",
    "from sklearn.model_selection import train_test_split\n",
    "import matplotlib.pyplot as plt"
   ]
  },
  {
   "cell_type": "code",
   "execution_count": 2,
   "metadata": {
    "collapsed": true
   },
   "outputs": [],
   "source": [
    "data=load_svmlight_file(r'F:\\\\机器学习实验\\a9a_train.txt')\n",
    "data_test=load_svmlight_file(r'F:\\\\机器学习实验\\\\a9a_test.txt')"
   ]
  },
  {
   "cell_type": "code",
   "execution_count": 3,
   "metadata": {
    "collapsed": true
   },
   "outputs": [],
   "source": [
    "y=data[1]\n",
    "X=data[0]\n",
    "X=X.todense()\n",
    "y=np.reshape(y,(len(y),1))\n",
    "y=np.mat(y)"
   ]
  },
  {
   "cell_type": "code",
   "execution_count": 4,
   "metadata": {
    "collapsed": true
   },
   "outputs": [],
   "source": [
    "X=np.hstack((X,np.ones((len(y),1))))\n",
    "y_test=data_test[1]\n",
    "X_test=data_test[0]\n",
    "X_test=X_test.todense()\n",
    "y_test=np.reshape(y_test,((len(y_test),1)))\n",
    "X_test=np.hstack((X_test,np.zeros((len(y_test),1))))\n",
    "X_test=np.hstack((X_test,np.ones((len(y_test),1))))"
   ]
  },
  {
   "cell_type": "code",
   "execution_count": 5,
   "metadata": {
    "collapsed": true
   },
   "outputs": [],
   "source": [
    "def hingeloss(X,w,y):\n",
    "    s=0\n",
    "    for i in range(0,len(w)):\n",
    "        s=s+w[i]**2\n",
    "    return s/2+max(0,1-y*(X*w))"
   ]
  },
  {
   "cell_type": "markdown",
   "metadata": {},
   "source": [
    "hingeloss:\n",
    "$$Hinge loss=\\frac{||w||^2}{2}+C\\sum_{i=1}^{N}max(0,1-y_i(w^TX_i+b))$$"
   ]
  },
  {
   "cell_type": "code",
   "execution_count": 6,
   "metadata": {
    "collapsed": true
   },
   "outputs": [],
   "source": [
    "def predict(X,w):#阈值为0\n",
    "    y_pre=X*w\n",
    "    y_pre[y_pre>=0]=1\n",
    "    y_pre[y_pre<0]=-1\n",
    "    return y_pre"
   ]
  },
  {
   "cell_type": "code",
   "execution_count": 7,
   "metadata": {
    "collapsed": true
   },
   "outputs": [],
   "source": [
    "def loss(X,w,y):#使用误差率作为loss\n",
    "    y_predict=predict(X,w)\n",
    "    n=np.zeros((len(y),1))\n",
    "    n[y!=y_predict]=1\n",
    "    return sum(n)/len(n)"
   ]
  },
  {
   "cell_type": "code",
   "execution_count": 8,
   "metadata": {
    "collapsed": true
   },
   "outputs": [],
   "source": [
    "def gradient(X,w,y):\n",
    "    (n,m)=X.shape\n",
    "    s=np.zeros((m,1))\n",
    "    w[X.shape[1]-1]=0#w的最后一列是b\n",
    "    for j in range(0,n):\n",
    "        if(1-X[j]*w*y[j]>0):\n",
    "            s=s+(X[j].T*y[j])*-1\n",
    "    return s+w"
   ]
  },
  {
   "cell_type": "markdown",
   "metadata": {},
   "source": [
    "梯度:\n",
    "$$\\frac{\\partial J(w)}{\\partial w}=w+C\\sum_{i=1}^{N}g_w(X_i)$$"
   ]
  },
  {
   "cell_type": "code",
   "execution_count": 10,
   "metadata": {
    "collapsed": true
   },
   "outputs": [],
   "source": [
    "def NAGtrain(X,y,X_test,y_test,a,b,it,size):#it 迭代次数 size每次求梯度的部分占所有数据的比例\n",
    "    (n,m)=X.shape\n",
    "    w=np.zeros((m,1))\n",
    "    v=np.zeros((m,1))\n",
    "    time=[]\n",
    "    train_err_rate=[]\n",
    "    test_err_rate=[]\n",
    "    for i in range(0,it):\n",
    "        time.append(i+1)\n",
    "        X_train, X_random, y_train, y_random = train_test_split(X, y, test_size=size)\n",
    "        gra=gradient(X_random,w-a*v,y_random)\n",
    "        v=a*v+b*gra\n",
    "        w=w-v\n",
    "        test_err_rate.append(loss(X_test,w,y_test))\n",
    "    return w,time,test_err_rate"
   ]
  },
  {
   "cell_type": "markdown",
   "metadata": {},
   "source": [
    "NAG实现原理：\n",
    "$$g_t=\\frac{\\partial J}{\\partial w}(W_{t-1}-\\gamma v_{t-1})$$\n",
    "$$v_t=\\gamma v_{t-1}+\\eta g_{t-1}$$\n",
    "$$W_t=W_{t-1}-v_t$$"
   ]
  },
  {
   "cell_type": "code",
   "execution_count": 11,
   "metadata": {
    "collapsed": true
   },
   "outputs": [],
   "source": [
    "def RMStrain(X,y,X_test,y_test,a,LearningRate,it,size):\n",
    "    (n,m)=X.shape\n",
    "    w=np.zeros((m,1))\n",
    "    g=np.zeros((m,1))\n",
    "    time=[]\n",
    "    train_err_rate=[]\n",
    "    test_err_rate=[]\n",
    "    for i in range(0,it):\n",
    "        time.append(i+1)\n",
    "        X_train, X_random, y_train, y_random = train_test_split(X, y, test_size=size)\n",
    "        gra=gradient(X_random,w,y_random)\n",
    "        g=a*g+(1-a)*np.multiply(gra,gra)\n",
    "        w=w-np.multiply((LearningRate/np.sqrt(g+0.0000001)),gra)\n",
    "        test_err_rate.append(loss(X_test,w,y_test))\n",
    "    return w,time,test_err_rate"
   ]
  },
  {
   "cell_type": "markdown",
   "metadata": {},
   "source": [
    "RMS\n",
    "$$g_t=\\frac{\\partial J(W_{t-1})}{\\partial w}$$\n",
    "$$G_t=\\gamma G_t+(1-\\gamma)g_t·g_t$$\n",
    "\n",
    "$$W_t=W_{t-1}-\\frac{\\eta}{\\sqrt{G_t+\\epsilon }}·g_t$$"
   ]
  },
  {
   "cell_type": "code",
   "execution_count": 12,
   "metadata": {
    "collapsed": true
   },
   "outputs": [],
   "source": [
    "def AdaDelta(X,y,X_test,y_test,a,it,size):\n",
    "    (n,m)=X.shape\n",
    "    w=np.zeros((m,1))\n",
    "    g=np.zeros((m,1))\n",
    "    delta=np.zeros((m,1))\n",
    "    time=[]\n",
    "    train_err_rate=[]\n",
    "    test_err_rate=[]\n",
    "    for i in range(0,it):\n",
    "        time.append(i+1)\n",
    "        X_train, X_random, y_train, y_random = train_test_split(X, y, test_size=size)\n",
    "        gra=gradient(X_random,w,y_random)\n",
    "        g=a*g+(1-a)*np.multiply(gra,gra)\n",
    "        delta_theta=-np.multiply((np.sqrt(delta+0.0000001)/np.sqrt(g+0.0000001)),gra)\n",
    "        w=w+delta_theta\n",
    "        delta=a*delta+(1-a)*np.multiply(delta_theta,delta_theta)\n",
    "        test_err_rate.append(loss(X_test,w,y_test))\n",
    "    return w,time,test_err_rate"
   ]
  },
  {
   "cell_type": "markdown",
   "metadata": {},
   "source": [
    "Adadelta\n",
    "$$g_t=\\Delta J(W_{t-1})$$\n",
    "$$G_t=\\gamma W_t+(1-\\gamma)g_t·g_t$$\n",
    "$$\\Delta W_t=-\\frac{\\sqrt{\\Delta _{t-1}+\\epsilon}}{\\sqrt{G_t+\\epsilon }}·g_t$$\n",
    "$$W_t=W_{t-1}+\\Delta W_t$$\n",
    "$$\\Delta _t=\\gamma \\Delta _{t-1}+(1-\\gamma)\\Delta W_t·\\Delta W_t$$"
   ]
  },
  {
   "cell_type": "code",
   "execution_count": 13,
   "metadata": {
    "collapsed": true
   },
   "outputs": [],
   "source": [
    "def Adam(X,y,X_test,y_test,b,gamma,LearningRate,it,size):\n",
    "    (n,m)=X.shape\n",
    "    w=np.zeros((m,1))\n",
    "    g=np.zeros((m,1))\n",
    "    mt=0\n",
    "    time=[]\n",
    "    train_err_rate=[]\n",
    "    test_err_rate=[]\n",
    "    for i in range(1,it+1):\n",
    "        time.append(i)\n",
    "        X_train, X_random, y_train, y_random = train_test_split(X, y, test_size=size)\n",
    "        gra=gradient(X_random,w,y_random)\n",
    "        mt=b*mt+(1-b)*gra\n",
    "        g=gamma*g+(1-gamma)*np.multiply(gra,gra)\n",
    "        a=LearningRate*(np.sqrt(1-gamma**i)/(1-b**i))\n",
    "        w=w-a*mt/np.sqrt(g+0.00001)\n",
    "        test_err_rate.append(loss(X_test,w,y_test))\n",
    "    return w,time,test_err_rate"
   ]
  },
  {
   "cell_type": "markdown",
   "metadata": {},
   "source": [
    "Adam\n",
    "$$g_t=\\frac{\\partial J(W_{t-1})}{\\partial} w$$\n",
    "$$m_t=\\beta _1m_{t-1}+(1-\\beta)g_t$$\n",
    "$$G_t=\\gamma G_t+(1-\\gamma)g_t·g_t$$\n",
    "$$\\alpha=\\eta\\frac{\\sqrt{1-\\gamma ^t}}{1-\\beta ^t}$$\n",
    "$$\\Theta=\\Theta_{t-1}-\\alpha\\frac{m_t}{\\sqrt{G_t+\\epsilon}}$$"
   ]
  },
  {
   "cell_type": "code",
   "execution_count": 24,
   "metadata": {
    "collapsed": true
   },
   "outputs": [],
   "source": [
    "theta,times,NAG_test_err=NAGtrain(X,y,X_test,y_test,0.9,0.00001,1500,0.01)"
   ]
  },
  {
   "cell_type": "code",
   "execution_count": 25,
   "metadata": {
    "collapsed": true
   },
   "outputs": [],
   "source": [
    "theta,times,RMS_test_err=RMStrain(X,y,X_test,y_test,0.9,0.01,1500,0.01)"
   ]
  },
  {
   "cell_type": "code",
   "execution_count": 26,
   "metadata": {
    "collapsed": true
   },
   "outputs": [],
   "source": [
    "theta,times,AdaDelta_test_err=AdaDelta(X,y,X_test,y_test,0.99,1500,0.01)"
   ]
  },
  {
   "cell_type": "code",
   "execution_count": 27,
   "metadata": {
    "collapsed": true
   },
   "outputs": [],
   "source": [
    "theta,times,Adam_test_err=Adam(X,y,X_test,y_test,0.9,0.99,0.01,1500,0.01)"
   ]
  },
  {
   "cell_type": "code",
   "execution_count": 28,
   "metadata": {},
   "outputs": [
    {
     "data": {
      "image/png": "[encoded data removed]",
      "text/plain": [
       "<matplotlib.figure.Figure at 0xc921f0a860>"
      ]
     },
     "metadata": {},
     "output_type": "display_data"
    }
   ],
   "source": [
    "plt.xlabel('times')\n",
    "plt.ylabel('error rate')\n",
    "plt.plot(times,NAG_test_err,label=\"NAG\")\n",
    "plt.plot(times,RMS_test_err,label=\"RMS\")\n",
    "plt.plot(times,AdaDelta_test_err,label=\"AdaDelta\")\n",
    "plt.plot(times,Adam_test_err,label=\"Adam\")\n",
    "plt.legend()\n",
    "plt.show()"
   ]
  },
  {
   "cell_type": "code",
   "execution_count": 29,
   "metadata": {},
   "outputs": [
    {
     "data": {
      "text/plain": [
       "array([ 0.15883545])"
      ]
     },
     "execution_count": 29,
     "metadata": {},
     "output_type": "execute_result"
    }
   ],
   "source": [
    "NAG_test_err[-1]"
   ]
  },
  {
   "cell_type": "code",
   "execution_count": 30,
   "metadata": {},
   "outputs": [
    {
     "data": {
      "text/plain": [
       "array([ 0.15189485])"
      ]
     },
     "execution_count": 30,
     "metadata": {},
     "output_type": "execute_result"
    }
   ],
   "source": [
    "RMS_test_err[-1]"
   ]
  },
  {
   "cell_type": "code",
   "execution_count": 31,
   "metadata": {},
   "outputs": [
    {
     "data": {
      "text/plain": [
       "array([ 0.15189485])"
      ]
     },
     "execution_count": 31,
     "metadata": {},
     "output_type": "execute_result"
    }
   ],
   "source": [
    "AdaDelta_test_err[-1]"
   ]
  },
  {
   "cell_type": "code",
   "execution_count": 32,
   "metadata": {},
   "outputs": [
    {
     "data": {
      "text/plain": [
       "array([ 0.150605])"
      ]
     },
     "execution_count": 32,
     "metadata": {},
     "output_type": "execute_result"
    }
   ],
   "source": [
    "Adam_test_err[-1]"
   ]
  },
  {
   "cell_type": "code",
   "execution_count": null,
   "metadata": {
    "collapsed": true
   },
   "outputs": [],
   "source": []
  }
 ],
 "metadata": {
  "kernelspec": {
   "display_name": "Python 3",
   "language": "python",
   "name": "python3"
  },
  "language_info": {
   "codemirror_mode": {
    "name": "ipython",
    "version": 3
   },
   "file_extension": ".py",
   "mimetype": "text/x-python",
   "name": "python",
   "nbconvert_exporter": "python",
   "pygments_lexer": "ipython3",
   "version": "3.6.3"
  }
 },
 "nbformat": 4,
 "nbformat_minor": 2
}
