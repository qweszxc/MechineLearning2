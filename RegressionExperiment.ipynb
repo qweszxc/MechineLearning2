{
 "cells": [
  {
   "cell_type": "code",
   "execution_count": 1,
   "metadata": {
    "collapsed": true
   },
   "outputs": [],
   "source": [
    "from sklearn.datasets import load_svmlight_file\n",
    "import numpy as np\n",
    "from sklearn.model_selection import train_test_split\n",
    "import time"
   ]
  },
  {
   "cell_type": "code",
   "execution_count": 2,
   "metadata": {
    "collapsed": true
   },
   "outputs": [],
   "source": [
    "import matplotlib.pyplot as plt"
   ]
  },
  {
   "cell_type": "code",
   "execution_count": 3,
   "metadata": {
    "collapsed": true
   },
   "outputs": [],
   "source": [
    "data=load_svmlight_file(r'F:\\\\机器学习实验\\a9a_train.txt')"
   ]
  },
  {
   "cell_type": "code",
   "execution_count": 4,
   "metadata": {
    "collapsed": true
   },
   "outputs": [],
   "source": [
    "data_test=load_svmlight_file(r'F:\\\\机器学习实验\\\\a9a_test.txt')"
   ]
  },
  {
   "cell_type": "code",
   "execution_count": 5,
   "metadata": {
    "collapsed": true
   },
   "outputs": [],
   "source": [
    "y=data[1]\n",
    "X=data[0]\n",
    "X=X.todense()\n",
    "y=np.reshape(y,(len(y),1))\n",
    "y=np.mat(y)"
   ]
  },
  {
   "cell_type": "code",
   "execution_count": 6,
   "metadata": {
    "collapsed": true
   },
   "outputs": [],
   "source": [
    "X=np.hstack((X,np.ones((len(y),1))))"
   ]
  },
  {
   "cell_type": "code",
   "execution_count": 7,
   "metadata": {
    "collapsed": true
   },
   "outputs": [],
   "source": [
    "y_test=data_test[1]\n",
    "X_test=data_test[0]\n",
    "X_test=X_test.todense()\n",
    "y_test=np.reshape(y_test,((len(y_test),1)))"
   ]
  },
  {
   "cell_type": "code",
   "execution_count": 8,
   "metadata": {
    "collapsed": true
   },
   "outputs": [],
   "source": [
    "X_test=np.hstack((X_test,np.zeros((len(y_test),1))))"
   ]
  },
  {
   "cell_type": "code",
   "execution_count": 9,
   "metadata": {
    "collapsed": true
   },
   "outputs": [],
   "source": [
    "X_test=np.hstack((X_test,np.ones((len(y_test),1))))"
   ]
  },
  {
   "cell_type": "code",
   "execution_count": 10,
   "metadata": {
    "collapsed": true
   },
   "outputs": [],
   "source": [
    "y[y==-1]=0#把-1换成0"
   ]
  },
  {
   "cell_type": "code",
   "execution_count": 11,
   "metadata": {
    "collapsed": true
   },
   "outputs": [],
   "source": [
    "y_test[y_test==-1]=0"
   ]
  },
  {
   "cell_type": "code",
   "execution_count": 12,
   "metadata": {
    "collapsed": true
   },
   "outputs": [],
   "source": [
    "def h(X,w):\n",
    "    return 1/(1+np.exp(-X*w))"
   ]
  },
  {
   "cell_type": "markdown",
   "metadata": {},
   "source": [
    "sigmoid函数公式为：\n",
    "$$h_w(x)=\\frac{1}{1+e^{-w^{T}x}}$$"
   ]
  },
  {
   "cell_type": "code",
   "execution_count": 13,
   "metadata": {
    "collapsed": true
   },
   "outputs": [],
   "source": [
    "def gradient(X,w,y):\n",
    "    return X.T*(h(X,w)-y)/(len(y))"
   ]
  },
  {
   "cell_type": "markdown",
   "metadata": {},
   "source": [
    "梯度\n",
    "$$\\frac{\\partial J}{\\partial w}=\\frac{1}{m}\\sum_{i=1}^{m}(h_w(X_i)-y_i)X_i$$"
   ]
  },
  {
   "cell_type": "code",
   "execution_count": 14,
   "metadata": {
    "collapsed": true
   },
   "outputs": [],
   "source": [
    "def predict(X,w): #设置阈值为0.5\n",
    "    y_pre=h(X,w)\n",
    "    y=np.ones((np.shape(X)[0],1))\n",
    "    y[y_pre<0.5]=0\n",
    "    return y"
   ]
  },
  {
   "cell_type": "code",
   "execution_count": 15,
   "metadata": {
    "collapsed": true
   },
   "outputs": [],
   "source": [
    "def loss(X,w,y):#损失函数\n",
    "    y_pre=predict(X,w)\n",
    "    N=np.zeros((len(y),1))\n",
    "    N[y_pre!=y]=1\n",
    "    return np.sum(N)/len(y_pre)"
   ]
  },
  {
   "cell_type": "code",
   "execution_count": 16,
   "metadata": {
    "collapsed": true
   },
   "outputs": [],
   "source": [
    "def NAGtrain(X,y,X_test,y_test,gamma,eta,it,size):#it 迭代次数 size每次求梯度的部分占所有数据的比例\n",
    "    (n,m)=X.shape\n",
    "    w=np.zeros((m,1)) #权重w初始化为0\n",
    "    v=np.zeros((m,1)) #vt初始化为0\n",
    "    time=[]\n",
    "    test_err_rate=[]\n",
    "    train_err_rate=[]\n",
    "    for i in range(0,it):\n",
    "        time.append(i+1)\n",
    "        X_train, X_random, y_train, y_random = train_test_split(X, y, test_size=size)\n",
    "        gra=gradient(X_random,w-gamma*v,y_random)\n",
    "        v=gamma*v+eta*gra\n",
    "        w=w-v\n",
    "        \n",
    "        test_err_rate.append(loss(X_test,w,y_test))\n",
    "        train_err_rate.append(loss(X,w,y))\n",
    "    return w,time,test_err_rate,train_err_rate"
   ]
  },
  {
   "cell_type": "markdown",
   "metadata": {},
   "source": [
    "NAG实现原理：\n",
    "$$g_t=\\frac{\\partial J}{\\partial w}(W_{t-1}-\\gamma v_{t-1})$$\n",
    "$$v_t=\\gamma v_{t-1}+\\eta g_{t-1}$$\n",
    "$$W_t=W_{t-1}-v_t$$"
   ]
  },
  {
   "cell_type": "code",
   "execution_count": 17,
   "metadata": {
    "collapsed": true
   },
   "outputs": [],
   "source": [
    "def RMStrain(X,y,X_test,y_test,gamma,LearningRate,it,size):\n",
    "    (n,m)=X.shape\n",
    "    w=np.zeros((m,1))#权重w初始化为0\n",
    "    G=np.zeros((m,1))#Gt初始化为0\n",
    "    time=[]\n",
    "    test_err_rate=[]\n",
    "    train_err_rate=[]\n",
    "    epsilon=0.0000001\n",
    "    for i in range(0,it):\n",
    "        time.append(i+1)\n",
    "        X_train, X_random, y_train, y_random = train_test_split(X, y, test_size=size)\n",
    "        gra=gradient(X_random,w,y_random)\n",
    "        G=gamma*G+(1-gamma)*np.multiply(gra,gra)\n",
    "        w=w-np.multiply((LearningRate/np.sqrt(G+epsilon)),gra)\n",
    "        \n",
    "        test_err_rate.append(loss(X_test,w,y_test))\n",
    "        train_err_rate.append(loss(X,w,y))\n",
    "    return w,time,test_err_rate,train_err_rate"
   ]
  },
  {
   "cell_type": "markdown",
   "metadata": {},
   "source": [
    "RMS\n",
    "$$g_t=\\frac{\\partial J(W_{t-1})}{\\partial w}$$\n",
    "$$G_t=\\gamma G_t+(1-\\gamma)g_t·g_t$$\n",
    "\n",
    "$$W_t=W_{t-1}-\\frac{\\eta}{\\sqrt{G_t+\\epsilon }}·g_t$$"
   ]
  },
  {
   "cell_type": "code",
   "execution_count": 18,
   "metadata": {
    "collapsed": true
   },
   "outputs": [],
   "source": [
    "def AdaDelta(X,y,X_test,y_test,gamma,it,size):\n",
    "    (n,m)=X.shape\n",
    "    w=np.zeros((m,1))#权重w初始化为0\n",
    "    G=np.zeros((m,1))#Gt初始化为0\n",
    "    delta=np.zeros((m,1))\n",
    "    time=[]\n",
    "    test_err_rate=[]\n",
    "    train_err_rate=[]\n",
    "    epsilon=0.0000001\n",
    "    for i in range(0,it):\n",
    "        time.append(i+1)\n",
    "        X_train, X_random, y_train, y_random = train_test_split(X, y, test_size=size)\n",
    "        gra=gradient(X_random,w,y_random)\n",
    "        G=gamma*G+(1-gamma)*np.multiply(gra,gra)\n",
    "        delta_w=-np.multiply((np.sqrt(delta+epsilon)/np.sqrt(G+epsilon)),gra)\n",
    "        w=w+delta_w\n",
    "        delta=gamma*delta+(1-gamma)*np.multiply(delta_w,delta_w)\n",
    "        \n",
    "        test_err_rate.append(loss(X_test,w,y_test))\n",
    "        train_err_rate.append(loss(X,w,y))\n",
    "    return w,time,test_err_rate,train_err_rate"
   ]
  },
  {
   "cell_type": "markdown",
   "metadata": {},
   "source": [
    "Adadelta\n",
    "$$g_t=\\Delta J(W_{t-1})$$\n",
    "$$G_t=\\gamma W_t+(1-\\gamma)g_t·g_t$$\n",
    "$$\\Delta W_t=-\\frac{\\sqrt{\\Delta _{t-1}+\\epsilon}}{\\sqrt{G_t+\\epsilon }}·g_t$$\n",
    "$$W_t=W_{t-1}+\\Delta W_t$$\n",
    "$$\\Delta _t=\\gamma \\Delta _{t-1}+(1-\\gamma)\\Delta W_t·\\Delta W_t$$"
   ]
  },
  {
   "cell_type": "code",
   "execution_count": 19,
   "metadata": {
    "collapsed": true
   },
   "outputs": [],
   "source": [
    "def Adam(X,y,X_test,y_test,beta,gamma,LearningRate,it,size):\n",
    "    (n,m)=X.shape\n",
    "    w=np.zeros((m,1))#权重w初始化为0\n",
    "    G=np.zeros((m,1))#Gt初始化为0\n",
    "    mt=0 #mt初始化为0\n",
    "    time=[]\n",
    "    test_err_rate=[]\n",
    "    train_err_rate=[]\n",
    "    for i in range(1,it+1):\n",
    "        time.append(i)\n",
    "        X_train, X_random, y_train, y_random = train_test_split(X, y, test_size=size)\n",
    "        gra=gradient(X_random,w,y_random)\n",
    "        mt=beta*mt+(1-beta)*gra\n",
    "        G=gamma*G+(1-gamma)*np.multiply(gra,gra)\n",
    "        a=LearningRate*(np.sqrt(1-gamma**i)/(1-beta**i))\n",
    "        w=w-a*mt/np.sqrt(G+0.00001)\n",
    "        \n",
    "        test_err_rate.append(loss(X_test,w,y_test))\n",
    "        train_err_rate.append(loss(X,w,y))\n",
    "    return w,time,test_err_rate,train_err_rate"
   ]
  },
  {
   "cell_type": "markdown",
   "metadata": {},
   "source": [
    "Adam\n",
    "$$g_t=\\frac{\\partial J(W_{t-1})}{\\partial} w$$\n",
    "$$m_t=\\beta _1m_{t-1}+(1-\\beta)g_t$$\n",
    "$$G_t=\\gamma G_t+(1-\\gamma)g_t·g_t$$\n",
    "$$\\alpha=\\eta\\frac{\\sqrt{1-\\gamma ^t}}{1-\\beta ^t}$$\n",
    "$$\\Theta=\\Theta_{t-1}-\\alpha\\frac{m_t}{\\sqrt{G_t+\\epsilon}}$$"
   ]
  },
  {
   "cell_type": "code",
   "execution_count": 20,
   "metadata": {
    "collapsed": true
   },
   "outputs": [],
   "source": [
    "def GDNAGtrain(X,y,X_test,y_test,gamma,eta,it):\n",
    "    (n,m)=X.shape\n",
    "    w=np.zeros((m,1)) #权重w初始化为0\n",
    "    v=np.zeros((m,1)) #vt初始化为0\n",
    "    time=[]\n",
    "    test_err_rate=[]\n",
    "    train_err_rate=[]\n",
    "    for i in range(0,it):\n",
    "        time.append(i+1)\n",
    "        gra=gradient(X,w-gamma*v,y)\n",
    "        v=gamma*v+eta*gra\n",
    "        w=w-v\n",
    "        \n",
    "        test_err_rate.append(loss(X_test,w,y_test))\n",
    "        train_err_rate.append(loss(X,w,y))\n",
    "    return w,time,test_err_rate,train_err_rate"
   ]
  },
  {
   "cell_type": "code",
   "execution_count": 21,
   "metadata": {
    "collapsed": true
   },
   "outputs": [],
   "source": [
    "def GDRMStrain(X,y,X_test,y_test,gamma,LearningRate,it):\n",
    "    (n,m)=X.shape\n",
    "    w=np.zeros((m,1))#权重w初始化为0\n",
    "    G=np.zeros((m,1))#Gt初始化为0\n",
    "    time=[]\n",
    "    test_err_rate=[]\n",
    "    train_err_rate=[]\n",
    "    epsilon=0.0000001\n",
    "    for i in range(0,it):\n",
    "        time.append(i+1)\n",
    "        gra=gradient(X,w,y)\n",
    "        G=gamma*G+(1-gamma)*np.multiply(gra,gra)\n",
    "        w=w-np.multiply((LearningRate/np.sqrt(G+epsilon)),gra)\n",
    "        \n",
    "        test_err_rate.append(loss(X_test,w,y_test))\n",
    "        train_err_rate.append(loss(X,w,y))\n",
    "    return w,time,test_err_rate,train_err_rate"
   ]
  },
  {
   "cell_type": "code",
   "execution_count": 22,
   "metadata": {
    "collapsed": true
   },
   "outputs": [],
   "source": [
    "def GDAdaDelta(X,y,X_test,y_test,gamma,it):\n",
    "    (n,m)=X.shape\n",
    "    w=np.zeros((m,1))#权重w初始化为0\n",
    "    G=np.zeros((m,1))#Gt初始化为0\n",
    "    delta=np.zeros((m,1))\n",
    "    time=[]\n",
    "    test_err_rate=[]\n",
    "    train_err_rate=[]\n",
    "    epsilon=0.0000001\n",
    "    for i in range(0,it):\n",
    "        time.append(i+1)\n",
    "        gra=gradient(X,w,y)\n",
    "        G=gamma*G+(1-gamma)*np.multiply(gra,gra)\n",
    "        delta_w=-np.multiply((np.sqrt(delta+epsilon)/np.sqrt(G+epsilon)),gra)\n",
    "        w=w+delta_w\n",
    "        delta=gamma*delta+(1-gamma)*np.multiply(delta_w,delta_w)\n",
    "        \n",
    "        test_err_rate.append(loss(X_test,w,y_test))\n",
    "        train_err_rate.append(loss(X,w,y))\n",
    "    return w,time,test_err_rate,train_err_rate"
   ]
  },
  {
   "cell_type": "code",
   "execution_count": 23,
   "metadata": {
    "collapsed": true
   },
   "outputs": [],
   "source": [
    "def GDAdam(X,y,X_test,y_test,beta,gamma,LearningRate,it):\n",
    "    (n,m)=X.shape\n",
    "    w=np.zeros((m,1))#权重w初始化为0\n",
    "    G=np.zeros((m,1))#Gt初始化为0\n",
    "    mt=0 #mt初始化为0\n",
    "    time=[]\n",
    "    test_err_rate=[]\n",
    "    train_err_rate=[]\n",
    "    for i in range(1,it+1):\n",
    "        time.append(i)\n",
    "        gra=gradient(X,w,y)\n",
    "        mt=beta*mt+(1-beta)*gra\n",
    "        G=gamma*G+(1-gamma)*np.multiply(gra,gra)\n",
    "        a=LearningRate*(np.sqrt(1-gamma**i)/(1-beta**i))\n",
    "        w=w-a*mt/np.sqrt(G+0.00001)\n",
    "        \n",
    "        test_err_rate.append(loss(X_test,w,y_test))\n",
    "        train_err_rate.append(loss(X,w,y))\n",
    "    return w,time,test_err_rate,train_err_rate"
   ]
  },
  {
   "cell_type": "code",
   "execution_count": 49,
   "metadata": {},
   "outputs": [
    {
     "name": "stdout",
     "output_type": "stream",
     "text": [
      "91.8679780960083\n"
     ]
    }
   ],
   "source": [
    "time1=time.time()\n",
    "theta,times,NAG_test_err,NAG_train_err=NAGtrain(X,y,X_test,y_test,0.9,0.01,1500,0.01)\n",
    "time2=time.time()\n",
    "print(time2-time1)"
   ]
  },
  {
   "cell_type": "code",
   "execution_count": 50,
   "metadata": {},
   "outputs": [
    {
     "name": "stdout",
     "output_type": "stream",
     "text": [
      "90.73417592048645\n"
     ]
    }
   ],
   "source": [
    "time1=time.time()\n",
    "theta,times,RMS_test_err,RMS_train_err=RMStrain(X,y,X_test,y_test,0.9,0.01,1500,0.01)\n",
    "time2=time.time()\n",
    "print(time2-time1)"
   ]
  },
  {
   "cell_type": "code",
   "execution_count": 58,
   "metadata": {},
   "outputs": [
    {
     "name": "stdout",
     "output_type": "stream",
     "text": [
      "92.14840769767761\n"
     ]
    }
   ],
   "source": [
    "time1=time.time()\n",
    "theta,times,AdaDelta_test_err,AdaDelta_train_err=AdaDelta(X,y,X_test,y_test,0,1500,0.01)\n",
    "time2=time.time()\n",
    "print(time2-time1)"
   ]
  },
  {
   "cell_type": "code",
   "execution_count": 52,
   "metadata": {},
   "outputs": [
    {
     "name": "stdout",
     "output_type": "stream",
     "text": [
      "91.04239392280579\n"
     ]
    }
   ],
   "source": [
    "time1=time.time()\n",
    "theta,times,Adam_test_err,Adam_train_err=Adam(X,y,X_test,y_test,0.9,0.99,0.01,1500,0.01)\n",
    "time2=time.time()\n",
    "print(time2-time1)"
   ]
  },
  {
   "cell_type": "code",
   "execution_count": 24,
   "metadata": {},
   "outputs": [
    {
     "name": "stdout",
     "output_type": "stream",
     "text": [
      "92.43610429763794\n"
     ]
    }
   ],
   "source": [
    "time1=time.time()\n",
    "theta,times,test_err,train_err=GDNAGtrain(X,y,X_test,y_test,0.9,0.01,1500)\n",
    "time2=time.time()\n",
    "print(time2-time1)"
   ]
  },
  {
   "cell_type": "code",
   "execution_count": 26,
   "metadata": {},
   "outputs": [
    {
     "name": "stdout",
     "output_type": "stream",
     "text": [
      "90.28757762908936\n"
     ]
    }
   ],
   "source": [
    "time1=time.time()\n",
    "theta,times,GDRMS_test_err,GDRMS_train_err=GDRMStrain(X,y,X_test,y_test,0.9,0.01,1500)\n",
    "time2=time.time()\n",
    "print(time2-time1)"
   ]
  },
  {
   "cell_type": "code",
   "execution_count": 27,
   "metadata": {},
   "outputs": [
    {
     "name": "stdout",
     "output_type": "stream",
     "text": [
      "87.65058612823486\n"
     ]
    }
   ],
   "source": [
    "time1=time.time()\n",
    "theta,time2,GDAdaDelta_test_err,GDAdaDelta_train_err=GDAdaDelta(X,y,X_test,y_test,0,1500)\n",
    "time2=time.time()\n",
    "print(time2-time1)"
   ]
  },
  {
   "cell_type": "code",
   "execution_count": 28,
   "metadata": {},
   "outputs": [
    {
     "name": "stdout",
     "output_type": "stream",
     "text": [
      "86.78463077545166\n"
     ]
    }
   ],
   "source": [
    "time1=time.time()\n",
    "theta,times,GDAdam_test_err,GDAdam_train_err=GDAdam(X,y,X_test,y_test,0.9,0.99,0.01,1500)\n",
    "time2=time.time()\n",
    "print(time2-time1)"
   ]
  },
  {
   "cell_type": "code",
   "execution_count": 30,
   "metadata": {},
   "outputs": [
    {
     "data": {
      "image/png": "[encoded data removed]",
      "text/plain": [
       "<matplotlib.figure.Figure at 0xae89bac278>"
      ]
     },
     "metadata": {},
     "output_type": "display_data"
    }
   ],
   "source": [
    "plt.xlabel('times')\n",
    "plt.ylabel('error rate')\n",
    "plt.plot(times,test_err,label=\"NAG\")\n",
    "plt.plot(times,GDRMS_test_err,label=\"RMS\")\n",
    "plt.plot(times,GDAdaDelta_test_err,label=\"AdaDelta\")\n",
    "plt.plot(times,GDAdam_test_err,label=\"Adam\")\n",
    "plt.legend()\n",
    "plt.show()"
   ]
  },
  {
   "cell_type": "code",
   "execution_count": 59,
   "metadata": {},
   "outputs": [
    {
     "data": {
      "image/png": "[encoded data removed]",
      "text/plain": [
       "<matplotlib.figure.Figure at 0xb706429438>"
      ]
     },
     "metadata": {},
     "output_type": "display_data"
    }
   ],
   "source": [
    "plt.xlabel('times')\n",
    "plt.ylabel('error rate')\n",
    "plt.plot(times,NAG_test_err,label=\"NAG\")\n",
    "plt.plot(times,RMS_test_err,label=\"RMS\")\n",
    "plt.plot(times,AdaDelta_test_err,label=\"AdaDelta\")\n",
    "plt.plot(times,Adam_test_err,label=\"Adam\")\n",
    "plt.legend()\n",
    "plt.show()"
   ]
  },
  {
   "cell_type": "code",
   "execution_count": 54,
   "metadata": {},
   "outputs": [
    {
     "data": {
      "text/plain": [
       "0.15035931453841903"
      ]
     },
     "execution_count": 54,
     "metadata": {},
     "output_type": "execute_result"
    }
   ],
   "source": [
    "NAG_test_err[-1]"
   ]
  },
  {
   "cell_type": "code",
   "execution_count": 55,
   "metadata": {},
   "outputs": [
    {
     "data": {
      "text/plain": [
       "0.15103494871322401"
      ]
     },
     "execution_count": 55,
     "metadata": {},
     "output_type": "execute_result"
    }
   ],
   "source": [
    "RMS_test_err[-1]"
   ]
  },
  {
   "cell_type": "code",
   "execution_count": 56,
   "metadata": {},
   "outputs": [
    {
     "data": {
      "text/plain": [
       "0.1504821571156563"
      ]
     },
     "execution_count": 56,
     "metadata": {},
     "output_type": "execute_result"
    }
   ],
   "source": [
    "AdaDelta_test_err[-1]"
   ]
  },
  {
   "cell_type": "code",
   "execution_count": 57,
   "metadata": {},
   "outputs": [
    {
     "data": {
      "text/plain": [
       "0.15103494871322401"
      ]
     },
     "execution_count": 57,
     "metadata": {},
     "output_type": "execute_result"
    }
   ],
   "source": [
    "Adam_test_err[-1]"
   ]
  },
  {
   "cell_type": "code",
   "execution_count": 60,
   "metadata": {},
   "outputs": [
    {
     "data": {
      "text/plain": [
       "0.1480867268595295"
      ]
     },
     "execution_count": 60,
     "metadata": {},
     "output_type": "execute_result"
    }
   ],
   "source": [
    "AdaDelta_test_err[-1]"
   ]
  },
  {
   "cell_type": "code",
   "execution_count": null,
   "metadata": {
    "collapsed": true
   },
   "outputs": [],
   "source": []
  }
 ],
 "metadata": {
  "kernelspec": {
   "display_name": "Python 3",
   "language": "python",
   "name": "python3"
  },
  "language_info": {
   "codemirror_mode": {
    "name": "ipython",
    "version": 3
   },
   "file_extension": ".py",
   "mimetype": "text/x-python",
   "name": "python",
   "nbconvert_exporter": "python",
   "pygments_lexer": "ipython3",
   "version": "3.6.3"
  }
 },
 "nbformat": 4,
 "nbformat_minor": 2
}
